{
 "cells": [
  {
   "cell_type": "code",
   "execution_count": 4,
   "id": "bf5f1ec3",
   "metadata": {},
   "outputs": [],
   "source": [
    "import os\n",
    "import pretty_midi\n",
    "import pandas as pd\n",
    "from tqdm.notebook import tqdm\n",
    "import matplotlib.pyplot as plt\n",
    "import librosa"
   ]
  },
  {
   "cell_type": "code",
   "execution_count": 5,
   "id": "1ec56c9a",
   "metadata": {},
   "outputs": [],
   "source": [
    "def get_midi_df(fn):\n",
    "    midi_data = pretty_midi.PrettyMIDI(fn)\n",
    "    midi_data.remove_invalid_notes()\n",
    "    midi_list = []\n",
    "    for instrument in midi_data.instruments:\n",
    "        for note in instrument.notes:\n",
    "            start = note.start\n",
    "            end = note.end\n",
    "            pitch = note.pitch\n",
    "            velocity = note.velocity\n",
    "            midi_list.append([start, end, pitch, velocity])\n",
    "    midi_list = sorted(midi_list, key=lambda x: (x[0], x[2]))\n",
    "    midi_df = pd.DataFrame(midi_list, columns=['start', 'end', 'pitch', 'velocity'])\n",
    "    midi_df['note_length'] = midi_df['end'] - midi_df['start']\n",
    "    return midi_df\n",
    "def get_song_level_feature(fn):\n",
    "    results = {}\n",
    "    midi_df = get_midi_df(fn)\n",
    "    results['note_length_mean'] = midi_df['note_length'].mean()\n",
    "    results['velocity_mean'] = midi_df['velocity'].mean()\n",
    "    return results\n",
    "def _feature_extractor(train_val):\n",
    "    feature_list = []\n",
    "    for fname in train_val.index:\n",
    "        midi_features = get_song_level_feature(os.path.join(midi_path, fname + \".mid\"))\n",
    "        matlab_features = pd.read_csv(os.path.join(matlab_path, fname + \".csv\"))\n",
    "        midi_features['keyname'] = matlab_features['keyname'].item()\n",
    "        midi_features['beatNoteDensity'] = matlab_features['beatNoteDensity'].item()\n",
    "        feature_list.append(midi_features)\n",
    "    return feature_list"
   ]
  },
  {
   "cell_type": "code",
   "execution_count": null,
   "id": "a79fe085",
   "metadata": {},
   "outputs": [],
   "source": [
    "midi_path = \"../Dataset/midis_emopia/Q1_*\"\n",
    "# key extract from matlab\n",
    "matlab_path = \"../dataset/matlab_feature/\"\n",
    "\n",
    "train_val_list = _feature_extractor(train_val)\n",
    "test_list = _feature_extractor(test)"
   ]
  },
  {
   "cell_type": "code",
   "execution_count": 8,
   "id": "cfb3916e",
   "metadata": {},
   "outputs": [
    {
     "ename": "ImportError",
     "evalue": "cannot import name 'plot_confusion_matrix' from 'sklearn' (/home/codespace/.local/lib/python3.10/site-packages/sklearn/__init__.py)",
     "output_type": "error",
     "traceback": [
      "\u001b[0;31m---------------------------------------------------------------------------\u001b[0m",
      "\u001b[0;31mImportError\u001b[0m                               Traceback (most recent call last)",
      "\u001b[1;32m/workspaces/Transformer_GANs_music_generation/emotion_classifier.ipynb Cell 5\u001b[0m line \u001b[0;36m5\n\u001b[1;32m      <a href='vscode-notebook-cell://codespaces%2Bturbo-sniffle-6q7g974vg7vcrjrx/workspaces/Transformer_GANs_music_generation/emotion_classifier.ipynb#W4sdnNjb2RlLXJlbW90ZQ%3D%3D?line=2'>3</a>\u001b[0m \u001b[39mfrom\u001b[39;00m \u001b[39msklearn\u001b[39;00m\u001b[39m.\u001b[39;00m\u001b[39mlinear_model\u001b[39;00m \u001b[39mimport\u001b[39;00m LogisticRegression\n\u001b[1;32m      <a href='vscode-notebook-cell://codespaces%2Bturbo-sniffle-6q7g974vg7vcrjrx/workspaces/Transformer_GANs_music_generation/emotion_classifier.ipynb#W4sdnNjb2RlLXJlbW90ZQ%3D%3D?line=3'>4</a>\u001b[0m \u001b[39mfrom\u001b[39;00m \u001b[39msklearn\u001b[39;00m\u001b[39m.\u001b[39;00m\u001b[39mmetrics\u001b[39;00m \u001b[39mimport\u001b[39;00m accuracy_score\n\u001b[0;32m----> <a href='vscode-notebook-cell://codespaces%2Bturbo-sniffle-6q7g974vg7vcrjrx/workspaces/Transformer_GANs_music_generation/emotion_classifier.ipynb#W4sdnNjb2RlLXJlbW90ZQ%3D%3D?line=4'>5</a>\u001b[0m \u001b[39mfrom\u001b[39;00m \u001b[39msklearn\u001b[39;00m \u001b[39mimport\u001b[39;00m plot_confusion_matrix\n",
      "\u001b[0;31mImportError\u001b[0m: cannot import name 'plot_confusion_matrix' from 'sklearn' (/home/codespace/.local/lib/python3.10/site-packages/sklearn/__init__.py)"
     ]
    }
   ],
   "source": [
    "import numpy as np\n",
    "import matplotlib.pyplot as plt  \n",
    "from sklearn.linear_model import LogisticRegression\n",
    "from sklearn.metrics import accuracy_score\n",
    "from sklearn import plot_confusion_matrix"
   ]
  },
  {
   "cell_type": "code",
   "execution_count": null,
   "id": "cf7c2b14",
   "metadata": {},
   "outputs": [],
   "source": [
    "def _get_labels(label_quad, cls_type):\n",
    "    if cls_type == \"AV\":\n",
    "        results = np.array(label_quad)\n",
    "    elif cls_type == \"A\":\n",
    "        labels = []\n",
    "        for label in label_quad:\n",
    "            if label in ['Q1','Q2']:\n",
    "                labels.append('HA')\n",
    "            elif label in ['Q3','Q4']:\n",
    "                labels.append('LA')\n",
    "        results = np.array(labels)\n",
    "    elif cls_type == \"V\":\n",
    "        labels = []\n",
    "        for label in label_quad:\n",
    "            if label in ['Q1','Q4']:\n",
    "                labels.append('HV')\n",
    "            elif label in ['Q2','Q3']:\n",
    "                labels.append('LV') \n",
    "        results = np.array(labels)\n",
    "    return results\n",
    "\n",
    "def _get_train_test(train_val_list, test_list, cls_type = \"AV\"):\n",
    "    m_x_train = pd.DataFrame(train_val_list)\n",
    "    m_x_train = pd.concat([m_x_train, pd.get_dummies(m_x_train.keyname)],axis=1).drop(columns=['keyname'])\n",
    "    m_x_test = pd.DataFrame(test_list)\n",
    "    m_x_test = pd.concat([m_x_test, pd.get_dummies(m_x_test.keyname)],axis=1).drop(columns=['keyname'])\n",
    "    total_col = set(m_x_train.columns) | set(m_x_test.columns)\n",
    "    for i in total_col:\n",
    "        if i not in m_x_test.columns:\n",
    "            m_x_test[i]= [0 for _ in range(len(m_x_test))]\n",
    "    m_y_train = list(train_val['label'])\n",
    "    m_y_test = list(test['label'])\n",
    "    m_y_train = _get_labels(m_y_train, cls_type)  \n",
    "    m_y_test = _get_labels(m_y_test, cls_type)  \n",
    "    return m_x_train, m_y_train, m_x_test, m_y_test"
   ]
  },
  {
   "cell_type": "code",
   "execution_count": 10,
   "id": "a914e915",
   "metadata": {},
   "outputs": [],
   "source": [
    "def _get_results(cls_type = \"AV\"):\n",
    "    m_x_train, m_y_train, m_x_test, m_y_test = _get_train_test(train_val_list, test_list, cls_type = cls_type)\n",
    "    clf = LogisticRegression(random_state=42).fit(m_x_train, m_y_train)\n",
    "    return clf.score(m_x_test, m_y_test)"
   ]
  },
  {
   "cell_type": "code",
   "execution_count": 11,
   "id": "e697cf54",
   "metadata": {},
   "outputs": [
    {
     "ename": "NameError",
     "evalue": "name '_get_train_test' is not defined",
     "output_type": "error",
     "traceback": [
      "\u001b[0;31m---------------------------------------------------------------------------\u001b[0m",
      "\u001b[0;31mNameError\u001b[0m                                 Traceback (most recent call last)",
      "\u001b[1;32m/workspaces/Transformer_GANs_music_generation/emotion_classifier.ipynb Cell 8\u001b[0m line \u001b[0;36m2\n\u001b[1;32m      <a href='vscode-notebook-cell://codespaces%2Bturbo-sniffle-6q7g974vg7vcrjrx/workspaces/Transformer_GANs_music_generation/emotion_classifier.ipynb#X10sdnNjb2RlLXJlbW90ZQ%3D%3D?line=0'>1</a>\u001b[0m midi_ml \u001b[39m=\u001b[39m {\n\u001b[0;32m----> <a href='vscode-notebook-cell://codespaces%2Bturbo-sniffle-6q7g974vg7vcrjrx/workspaces/Transformer_GANs_music_generation/emotion_classifier.ipynb#X10sdnNjb2RlLXJlbW90ZQ%3D%3D?line=1'>2</a>\u001b[0m     \u001b[39m\"\u001b[39m\u001b[39mAV\u001b[39m\u001b[39m\"\u001b[39m: _get_results(cls_type \u001b[39m=\u001b[39;49m \u001b[39m\"\u001b[39;49m\u001b[39mAV\u001b[39;49m\u001b[39m\"\u001b[39;49m), \n\u001b[1;32m      <a href='vscode-notebook-cell://codespaces%2Bturbo-sniffle-6q7g974vg7vcrjrx/workspaces/Transformer_GANs_music_generation/emotion_classifier.ipynb#X10sdnNjb2RlLXJlbW90ZQ%3D%3D?line=2'>3</a>\u001b[0m     \u001b[39m\"\u001b[39m\u001b[39mA\u001b[39m\u001b[39m\"\u001b[39m: _get_results(cls_type \u001b[39m=\u001b[39m \u001b[39m\"\u001b[39m\u001b[39mA\u001b[39m\u001b[39m\"\u001b[39m), \n\u001b[1;32m      <a href='vscode-notebook-cell://codespaces%2Bturbo-sniffle-6q7g974vg7vcrjrx/workspaces/Transformer_GANs_music_generation/emotion_classifier.ipynb#X10sdnNjb2RlLXJlbW90ZQ%3D%3D?line=3'>4</a>\u001b[0m     \u001b[39m\"\u001b[39m\u001b[39mV\u001b[39m\u001b[39m\"\u001b[39m: _get_results(cls_type \u001b[39m=\u001b[39m \u001b[39m\"\u001b[39m\u001b[39mV\u001b[39m\u001b[39m\"\u001b[39m)\n\u001b[1;32m      <a href='vscode-notebook-cell://codespaces%2Bturbo-sniffle-6q7g974vg7vcrjrx/workspaces/Transformer_GANs_music_generation/emotion_classifier.ipynb#X10sdnNjb2RlLXJlbW90ZQ%3D%3D?line=4'>5</a>\u001b[0m }\n",
      "\u001b[1;32m/workspaces/Transformer_GANs_music_generation/emotion_classifier.ipynb Cell 8\u001b[0m line \u001b[0;36m2\n\u001b[1;32m      <a href='vscode-notebook-cell://codespaces%2Bturbo-sniffle-6q7g974vg7vcrjrx/workspaces/Transformer_GANs_music_generation/emotion_classifier.ipynb#X10sdnNjb2RlLXJlbW90ZQ%3D%3D?line=0'>1</a>\u001b[0m \u001b[39mdef\u001b[39;00m \u001b[39m_get_results\u001b[39m(cls_type \u001b[39m=\u001b[39m \u001b[39m\"\u001b[39m\u001b[39mAV\u001b[39m\u001b[39m\"\u001b[39m):\n\u001b[0;32m----> <a href='vscode-notebook-cell://codespaces%2Bturbo-sniffle-6q7g974vg7vcrjrx/workspaces/Transformer_GANs_music_generation/emotion_classifier.ipynb#X10sdnNjb2RlLXJlbW90ZQ%3D%3D?line=1'>2</a>\u001b[0m     m_x_train, m_y_train, m_x_test, m_y_test \u001b[39m=\u001b[39m _get_train_test(train_val_list, test_list, cls_type \u001b[39m=\u001b[39m cls_type)\n\u001b[1;32m      <a href='vscode-notebook-cell://codespaces%2Bturbo-sniffle-6q7g974vg7vcrjrx/workspaces/Transformer_GANs_music_generation/emotion_classifier.ipynb#X10sdnNjb2RlLXJlbW90ZQ%3D%3D?line=2'>3</a>\u001b[0m     clf \u001b[39m=\u001b[39m LogisticRegression(random_state\u001b[39m=\u001b[39m\u001b[39m42\u001b[39m)\u001b[39m.\u001b[39mfit(m_x_train, m_y_train)\n\u001b[1;32m      <a href='vscode-notebook-cell://codespaces%2Bturbo-sniffle-6q7g974vg7vcrjrx/workspaces/Transformer_GANs_music_generation/emotion_classifier.ipynb#X10sdnNjb2RlLXJlbW90ZQ%3D%3D?line=3'>4</a>\u001b[0m     \u001b[39mreturn\u001b[39;00m clf\u001b[39m.\u001b[39mscore(m_x_test, m_y_test)\n",
      "\u001b[0;31mNameError\u001b[0m: name '_get_train_test' is not defined"
     ]
    }
   ],
   "source": [
    "midi_ml = {\n",
    "    \"AV\": _get_results(cls_type = \"AV\"), \n",
    "    \"A\": _get_results(cls_type = \"A\"), \n",
    "    \"V\": _get_results(cls_type = \"V\")\n",
    "}"
   ]
  },
  {
   "cell_type": "code",
   "execution_count": null,
   "id": "fca4db90",
   "metadata": {},
   "outputs": [
    {
     "data": {
      "text/plain": [
       "{'AV': 0.5813953488372093, 'A': 0.8488372093023255, 'V': 0.6511627906976745}"
      ]
     },
     "execution_count": 23,
     "metadata": {},
     "output_type": "execute_result"
    }
   ],
   "source": [
    "midi_ml"
   ]
  },
  {
   "cell_type": "code",
   "execution_count": 12,
   "id": "a9fb5443",
   "metadata": {},
   "outputs": [],
   "source": [
    "data_dir = \"/workspaces/Transformer_GANs_music_generation/Dataset/midis_emopia\""
   ]
  },
  {
   "cell_type": "code",
   "execution_count": null,
   "id": "73678c66",
   "metadata": {
    "scrolled": true
   },
   "outputs": [],
   "source": [
    "tr_mfcc_vec = []\n",
    "for idx in tqdm(range(len(train_val))):\n",
    "    y, _ = librosa.load(os.path.join(data_dir, train_val.iloc[idx].name + \".mp3\"), sr=22050)\n",
    "    mfcc = librosa.feature.mfcc(y=y, sr=22050, n_fft=1024, hop_length=512, win_length=1024)\n",
    "    tr_mfcc_vec.append(mfcc)\n",
    "    \n",
    "te_mfcc_vec = []\n",
    "for idx in tqdm(range(len(test))):\n",
    "    y, _ = librosa.load(os.path.join(data_dir, test.iloc[idx].name + \".mp3\"), sr=22050)\n",
    "    mfcc = librosa.feature.mfcc(y=y, sr=22050, n_fft=1024, hop_length=512, win_length=1024)\n",
    "    te_mfcc_vec.append(mfcc)"
   ]
  },
  {
   "cell_type": "code",
   "execution_count": null,
   "id": "cda50ec5",
   "metadata": {},
   "outputs": [],
   "source": [
    "def _audioML_results(cls_type = \"AV\"):\n",
    "    y_train = _get_labels(train_val['label'], cls_type)\n",
    "    y_test = _get_labels(test['label'], cls_type)\n",
    "    tr_mfcc = [i.mean(axis=1) for i in tr_mfcc_vec]\n",
    "    te_mfcc = [i.mean(axis=1) for i in te_mfcc_vec]\n",
    "    clf = LogisticRegression(random_state=42).fit(np.stack(tr_mfcc), y_train)\n",
    "    return clf.score(np.stack(te_mfcc), y_test)"
   ]
  },
  {
   "cell_type": "code",
   "execution_count": null,
   "id": "da26e966",
   "metadata": {},
   "outputs": [],
   "source": [
    "audio_ml = {\n",
    "    \"AV\": _audioML_results(cls_type = \"AV\"), \n",
    "    \"A\": _audioML_results(cls_type = \"A\"), \n",
    "    \"V\": _audioML_results(cls_type = \"V\")\n",
    "}"
   ]
  },
  {
   "cell_type": "code",
   "execution_count": null,
   "id": "04cf98e2",
   "metadata": {},
   "outputs": [
    {
     "data": {
      "text/plain": [
       "{'AV': 0.5232558139534884, 'A': 0.9186046511627907, 'V': 0.5581395348837209}"
      ]
     },
     "execution_count": 18,
     "metadata": {},
     "output_type": "execute_result"
    }
   ],
   "source": [
    "audio_ml"
   ]
  }
 ],
 "metadata": {
  "kernelspec": {
   "display_name": "Python 3 (ipykernel)",
   "language": "python",
   "name": "python3"
  },
  "language_info": {
   "codemirror_mode": {
    "name": "ipython",
    "version": 3
   },
   "file_extension": ".py",
   "mimetype": "text/x-python",
   "name": "python",
   "nbconvert_exporter": "python",
   "pygments_lexer": "ipython3",
   "version": "3.10.13"
  }
 },
 "nbformat": 4,
 "nbformat_minor": 5
}
